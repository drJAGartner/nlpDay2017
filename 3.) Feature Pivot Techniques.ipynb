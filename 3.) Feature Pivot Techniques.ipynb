{
 "cells": [
  {
   "cell_type": "markdown",
   "metadata": {
    "deletable": true,
    "editable": true
   },
   "source": [
    "<h1>Data Summary</h1>\n",
    "<p>Make some basic descriptive distributions of the data.</p>"
   ]
  },
  {
   "cell_type": "code",
   "execution_count": 2,
   "metadata": {
    "collapsed": false,
    "deletable": true,
    "editable": true
   },
   "outputs": [
    {
     "data": {
      "text/html": [
       "<script>requirejs.config({paths: { 'plotly': ['https://cdn.plot.ly/plotly-latest.min']},});if(!window.Plotly) {{require(['plotly'],function(plotly) {window.Plotly=plotly;});}}</script>"
      ],
      "text/plain": [
       "<IPython.core.display.HTML object>"
      ]
     },
     "metadata": {},
     "output_type": "display_data"
    }
   ],
   "source": [
    "import plotly.graph_objs as go\n",
    "from plotly.offline import download_plotlyjs, init_notebook_mode, plot, iplot\n",
    "import plotly.tools as tls\n",
    "init_notebook_mode(connected=True)\n",
    "\n",
    "from stop_words import get_stop_words\n",
    "from pyspark.sql import SparkSession\n",
    "from datetime import datetime\n",
    "from pyspark.sql.functions import udf\n",
    "from pyspark.sql.types import TimestampType, BooleanType\n",
    "from sklearn.metrics.pairwise import cosine_similarity\n",
    "import pandas as pd\n",
    "import numpy as np\n",
    "import sys, pywt\n",
    "sys.path.append(\"./lib\")\n",
    "from tweet_tolkenizers import TweetTolkenizer\n",
    "from clusterers import Clusterers\n",
    "\n",
    "base_path = \"/Users/josephgartner/Projects/nlpDay2017/\"\n",
    "path = base_path + \"data/\"\n",
    "\n",
    "spk = SparkSession.builder.master(\"local\").getOrCreate()\n",
    "df = spk.read.json(path)\n",
    "\n",
    "sc.addPyFile(base_path + \"/lib/tweet_tolkenizers.py\")"
   ]
  },
  {
   "cell_type": "markdown",
   "metadata": {
    "deletable": true,
    "editable": true
   },
   "source": [
    "<h2>Get French Words, Tokenize</h2>"
   ]
  },
  {
   "cell_type": "code",
   "execution_count": 8,
   "metadata": {
    "collapsed": false,
    "deletable": true,
    "editable": true
   },
   "outputs": [
    {
     "name": "stdout",
     "output_type": "stream",
     "text": [
      "136661\n"
     ]
    }
   ],
   "source": [
    "df = df.filter(df['lang']=='fr')\n",
    "stop_words = set(get_stop_words('fr'))\n",
    "make_dt = udf(lambda date_string: datetime.strptime(date_string, \"%a %b %d %H:%M:%S +0000 %Y\"), TimestampType())\n",
    "df = df.withColumn(\"dt_created\", make_dt(df['created_at']))\n",
    "\n",
    "bc_stop = sc.broadcast(stop_words)\n",
    "tt = TweetTolkenizer()\n",
    "print(df.count())"
   ]
  },
  {
   "cell_type": "markdown",
   "metadata": {},
   "source": [
    "<h2>Find words with the term 'Macron', get timestamp</h2>"
   ]
  },
  {
   "cell_type": "code",
   "execution_count": 12,
   "metadata": {
    "collapsed": false,
    "deletable": true,
    "editable": true
   },
   "outputs": [],
   "source": [
    "def has_token(text, term='macron', tt=tt, lang='fr'):\n",
    "    try:\n",
    "        tokens = set(tt.tokenize(text, lang))\n",
    "        return term in tokens\n",
    "    except:\n",
    "        return False\n",
    "\n",
    "uht = udf(lambda text: has_token(text), BooleanType())"
   ]
  },
  {
   "cell_type": "code",
   "execution_count": 9,
   "metadata": {
    "collapsed": false
   },
   "outputs": [
    {
     "data": {
      "text/plain": [
       "4381"
      ]
     },
     "execution_count": 9,
     "metadata": {},
     "output_type": "execute_result"
    }
   ],
   "source": [
    "df_mac = df.withColumn(\"has_term\", uht(df['text']))\n",
    "df_mac = df_mac.filter(df_mac[\"has_term\"]==True)\n",
    "df_mac.count()"
   ]
  },
  {
   "cell_type": "markdown",
   "metadata": {},
   "source": [
    "<h2>Get histograms of Macron Tweets and all Tweets</h2>"
   ]
  },
  {
   "cell_type": "code",
   "execution_count": 24,
   "metadata": {
    "collapsed": false,
    "deletable": true,
    "editable": true
   },
   "outputs": [],
   "source": [
    "dta2 = [ x.dt_created for x in df.select(\"dt_created\").collect()]\n",
    "dta3 = [(y - datetime(2017, 4, 27, 0, 0 ,0)).seconds/60 for y in dta2 if y > datetime(2017, 4, 27, 6, 0, 0) and y < datetime(2017, 4, 28, 0, 0, 0)]\n",
    "\n",
    "sig2 = [ x.dt_created for x in df_mac.select(\"dt_created\").collect()]\n",
    "sig3 = [(y - datetime(2017, 4, 27, 0, 0 ,0)).seconds/60 for y in sig2 if y > datetime(2017, 4, 27, 6, 0, 0) and y < datetime(2017, 4, 28, 0, 0, 0)]"
   ]
  },
  {
   "cell_type": "code",
   "execution_count": 37,
   "metadata": {
    "collapsed": false,
    "deletable": true,
    "editable": true
   },
   "outputs": [],
   "source": [
    "scale = 20\n",
    "n_bins = 24*int(60/scale)-int(360/scale)\n",
    "\n",
    "\n",
    "ha, ea = np.histogram(dta3, bins=n_bins, range=(360,24*60))\n",
    "hs, es = np.histogram(sig3, bins=n_bins, range=(360,24*60))"
   ]
  },
  {
   "cell_type": "code",
   "execution_count": 38,
   "metadata": {
    "collapsed": false
   },
   "outputs": [],
   "source": [
    "ha = np.array([x if x>0 else .001 for x in ha])\n",
    "\n",
    "ratio = np.divide(hs, ha)"
   ]
  },
  {
   "cell_type": "code",
   "execution_count": 39,
   "metadata": {
    "collapsed": false,
    "deletable": true,
    "editable": true
   },
   "outputs": [],
   "source": [
    "cA, cD = pywt.dwt(hs, 'db1')"
   ]
  },
  {
   "cell_type": "code",
   "execution_count": 40,
   "metadata": {
    "collapsed": false,
    "deletable": true,
    "editable": true
   },
   "outputs": [
    {
     "name": "stdout",
     "output_type": "stream",
     "text": [
      "This is the format of your plot grid:\n",
      "[ (1,1) x1,y1 ]\n",
      "[ (2,1) x1,y2 ]\n",
      "\n"
     ]
    },
    {
     "data": {
      "application/vnd.plotly.v1+json": {
       "data": [
        {
         "marker": {
          "color": "#990000"
         },
         "name": "Tweet Datetime Distribution",
         "type": "bar",
         "x": [
          0,
          20,
          40,
          60,
          80,
          100,
          120,
          140,
          160,
          180,
          200,
          220,
          240,
          260,
          280,
          300,
          320,
          340,
          360,
          380,
          400,
          420,
          440,
          460,
          480,
          500,
          520,
          540,
          560,
          580,
          600,
          620,
          640,
          660,
          680,
          700,
          720,
          740,
          760,
          780,
          800,
          820,
          840,
          860,
          880,
          900,
          920,
          940,
          960,
          980,
          1000,
          1020,
          1040,
          1060
         ],
         "xaxis": "x1",
         "y": [
          0.029350104821802937,
          0.05092592592592592,
          0.0582010582010582,
          0.05188067444876784,
          0.021372328458942633,
          0.048025613660619,
          0.058759521218716,
          0.025551684088269456,
          0.02158273381294964,
          0.04334038054968287,
          0.03543307086614173,
          0.03195488721804511,
          0.028515240904621434,
          0.03023983315954119,
          0.03901895206243032,
          0.04523580365736285,
          0.03754266211604096,
          0.02480270574971815,
          0.03389830508474576,
          0.03118279569892473,
          0.027777777777777776,
          0.04721549636803874,
          0.022935779816513763,
          0.027577937649880094,
          0.017543859649122806,
          0.03153153153153153,
          0.024757804090419805,
          0.02502606882168926,
          0.032448377581120944,
          0.029264214046822744,
          0.0297029702970297,
          0.025210084033613446,
          0.026714801444043323,
          0.02893436838390967,
          0.03513174404015056,
          0.01875,
          0.03089675960813866,
          0.02726063829787234,
          0.028768699654775604,
          0.028417442430181284,
          0.03116745905969361,
          0.037721324095458045,
          0.03837072018890201,
          0.03767757875231625,
          0.02942907592701589,
          0.07579617834394904,
          0.03868312757201646,
          0.025440313111545987,
          0.022269353128313893,
          0.013729977116704805,
          0.017080745341614908,
          0.0186219739292365,
          0.01568627450980392,
          0.012987012987012988
         ],
         "yaxis": "y1"
        },
        {
         "marker": {
          "color": "#009900"
         },
         "name": "Discrete Wavelet Transform",
         "type": "bar",
         "x": [
          0,
          40,
          80,
          120,
          160,
          200,
          240,
          280,
          320,
          360,
          400,
          440,
          480,
          520,
          560,
          600,
          640,
          680,
          720,
          760,
          800,
          840,
          880,
          920,
          960,
          1000,
          1040
         ],
         "xaxis": "x1",
         "y": [
          -13.435028842544403,
          2.8284271247461916,
          -18.384776310850235,
          22.627416997969522,
          -14.142135623730953,
          1.4142135623730958,
          0,
          -8.485281374238575,
          7.778174593052022,
          0.7071067811865461,
          -10.606601717798213,
          -2.121320343559642,
          -9.192388155425117,
          -0.7071067811865497,
          -1.4142135623730958,
          10.606601717798213,
          -2.8284271247461916,
          20.506096654409877,
          0,
          -5.656854249492383,
          7.0710678118654755,
          2.8284271247461916,
          -48.79036790187179,
          14.8492424049175,
          6.363961030678928,
          0.7071067811865479,
          2.121320343559643
         ],
         "yaxis": "y2"
        }
       ],
       "layout": {
        "annotations": [
         {
          "font": {
           "size": 16
          },
          "showarrow": false,
          "text": "Tweet Datetime Distribution",
          "x": 0.5,
          "xanchor": "center",
          "xref": "paper",
          "y": 1,
          "yanchor": "bottom",
          "yref": "paper"
         },
         {
          "font": {
           "size": 16
          },
          "showarrow": false,
          "text": "Discrete Wavelet Transform",
          "x": 0.5,
          "xanchor": "center",
          "xref": "paper",
          "y": 0.375,
          "yanchor": "bottom",
          "yref": "paper"
         }
        ],
        "xaxis1": {
         "anchor": "y2",
         "domain": [
          0,
          1
         ]
        },
        "yaxis1": {
         "anchor": "free",
         "domain": [
          0.625,
          1
         ],
         "position": 0
        },
        "yaxis2": {
         "anchor": "x1",
         "domain": [
          0,
          0.375
         ]
        }
       }
      },
      "text/html": [
       "<div id=\"d01e7932-90bc-4b5e-86d7-dc410c7aaae2\" style=\"height: 525px; width: 100%;\" class=\"plotly-graph-div\"></div><script type=\"text/javascript\">require([\"plotly\"], function(Plotly) { window.PLOTLYENV=window.PLOTLYENV || {};window.PLOTLYENV.BASE_URL=\"https://plot.ly\";Plotly.newPlot(\"d01e7932-90bc-4b5e-86d7-dc410c7aaae2\", [{\"marker\": {\"color\": \"#990000\"}, \"name\": \"Tweet Datetime Distribution\", \"x\": [0, 20, 40, 60, 80, 100, 120, 140, 160, 180, 200, 220, 240, 260, 280, 300, 320, 340, 360, 380, 400, 420, 440, 460, 480, 500, 520, 540, 560, 580, 600, 620, 640, 660, 680, 700, 720, 740, 760, 780, 800, 820, 840, 860, 880, 900, 920, 940, 960, 980, 1000, 1020, 1040, 1060], \"yaxis\": \"y1\", \"y\": [0.029350104821802937, 0.05092592592592592, 0.0582010582010582, 0.05188067444876784, 0.021372328458942633, 0.048025613660619, 0.058759521218716, 0.025551684088269456, 0.02158273381294964, 0.04334038054968287, 0.03543307086614173, 0.03195488721804511, 0.028515240904621434, 0.03023983315954119, 0.03901895206243032, 0.04523580365736285, 0.03754266211604096, 0.02480270574971815, 0.03389830508474576, 0.03118279569892473, 0.027777777777777776, 0.04721549636803874, 0.022935779816513763, 0.027577937649880094, 0.017543859649122806, 0.03153153153153153, 0.024757804090419805, 0.02502606882168926, 0.032448377581120944, 0.029264214046822744, 0.0297029702970297, 0.025210084033613446, 0.026714801444043323, 0.02893436838390967, 0.03513174404015056, 0.01875, 0.03089675960813866, 0.02726063829787234, 0.028768699654775604, 0.028417442430181284, 0.03116745905969361, 0.037721324095458045, 0.03837072018890201, 0.03767757875231625, 0.02942907592701589, 0.07579617834394904, 0.03868312757201646, 0.025440313111545987, 0.022269353128313893, 0.013729977116704805, 0.017080745341614908, 0.0186219739292365, 0.01568627450980392, 0.012987012987012988], \"xaxis\": \"x1\", \"type\": \"bar\"}, {\"marker\": {\"color\": \"#009900\"}, \"name\": \"Discrete Wavelet Transform\", \"x\": [0, 40, 80, 120, 160, 200, 240, 280, 320, 360, 400, 440, 480, 520, 560, 600, 640, 680, 720, 760, 800, 840, 880, 920, 960, 1000, 1040], \"yaxis\": \"y2\", \"y\": [-13.435028842544403, 2.8284271247461916, -18.384776310850235, 22.627416997969522, -14.142135623730953, 1.4142135623730958, 0.0, -8.485281374238575, 7.778174593052022, 0.7071067811865461, -10.606601717798213, -2.121320343559642, -9.192388155425117, -0.7071067811865497, -1.4142135623730958, 10.606601717798213, -2.8284271247461916, 20.506096654409877, 0.0, -5.656854249492383, 7.0710678118654755, 2.8284271247461916, -48.79036790187179, 14.8492424049175, 6.363961030678928, 0.7071067811865479, 2.121320343559643], \"xaxis\": \"x1\", \"type\": \"bar\"}], {\"yaxis1\": {\"domain\": [0.625, 1.0], \"position\": 0.0, \"anchor\": \"free\"}, \"annotations\": [{\"yref\": \"paper\", \"xanchor\": \"center\", \"showarrow\": false, \"x\": 0.5, \"y\": 1.0, \"text\": \"Tweet Datetime Distribution\", \"font\": {\"size\": 16}, \"xref\": \"paper\", \"yanchor\": \"bottom\"}, {\"yref\": \"paper\", \"xanchor\": \"center\", \"showarrow\": false, \"x\": 0.5, \"y\": 0.375, \"text\": \"Discrete Wavelet Transform\", \"font\": {\"size\": 16}, \"xref\": \"paper\", \"yanchor\": \"bottom\"}], \"xaxis1\": {\"domain\": [0.0, 1.0], \"anchor\": \"y2\"}, \"yaxis2\": {\"domain\": [0.0, 0.375], \"anchor\": \"x1\"}}, {\"linkText\": \"Export to plot.ly\", \"showLink\": true})});</script>"
      ]
     },
     "metadata": {},
     "output_type": "display_data"
    }
   ],
   "source": [
    "d0 = go.Bar(\n",
    "        name=\"Tweet Datetime Distribution\",\n",
    "        x=list([x*scale for x in range(n_bins)]),\n",
    "        y=ratio,\n",
    "        marker=dict(\n",
    "            color='#990000'\n",
    "        )\n",
    "    )\n",
    "\n",
    "\n",
    "d1 = go.Bar(\n",
    "        name=\"Discrete Wavelet Transform\",\n",
    "        x=list([2*x*scale for x in range(int(n_bins/2))]),\n",
    "        y=cD,\n",
    "        marker=dict(\n",
    "            color='#009900'\n",
    "        )\n",
    "    )\n",
    "\n",
    "l0 = go.Layout(\n",
    "    title='Tweets per {} minutes'.format(scale),\n",
    "    xaxis=dict(\n",
    "        title='Minute of the day',\n",
    "        titlefont=dict(\n",
    "            size=14,\n",
    "            color='black'\n",
    "        )\n",
    "    )\n",
    ")\n",
    "\n",
    "fig = tls.make_subplots(rows=2, \n",
    "                        cols=1, \n",
    "                        shared_xaxes=True, \n",
    "                        subplot_titles=('Tweet Datetime Distribution', \"Discrete Wavelet Transform\")\n",
    "                       )\n",
    "fig.append_trace(d0, 1, 1)\n",
    "fig.append_trace(d1, 2, 1)\n",
    "\n",
    "iplot(fig, filename='dice_pmf')"
   ]
  },
  {
   "cell_type": "code",
   "execution_count": null,
   "metadata": {
    "collapsed": true
   },
   "outputs": [],
   "source": []
  }
 ],
 "metadata": {
  "anaconda-cloud": {},
  "kernelspec": {
   "display_name": "Python 3",
   "language": "python",
   "name": "python3"
  },
  "language_info": {
   "codemirror_mode": {
    "name": "ipython",
    "version": 3
   },
   "file_extension": ".py",
   "mimetype": "text/x-python",
   "name": "python",
   "nbconvert_exporter": "python",
   "pygments_lexer": "ipython3",
   "version": "3.5.2"
  }
 },
 "nbformat": 4,
 "nbformat_minor": 0
}
